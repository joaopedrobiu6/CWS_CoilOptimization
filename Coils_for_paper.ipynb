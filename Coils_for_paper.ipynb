{
 "cells": [
  {
   "cell_type": "code",
   "execution_count": 1,
   "metadata": {},
   "outputs": [],
   "source": [
    "import os\n",
    "import numpy as np\n",
    "from scipy.optimize import minimize\n",
    "from simsopt.geo import SurfaceRZFourier\n",
    "from simsopt.objectives import SquaredFlux\n",
    "from simsopt.objectives import QuadraticPenalty\n",
    "from simsopt.geo import curves_to_vtk\n",
    "from simsopt.field import BiotSavart, Current, coils_via_symmetries, Coil\n",
    "from simsopt.geo import (\n",
    "    CurveLength, CurveCurveDistance,\n",
    "    MeanSquaredCurvature, LpCurveCurvature, CurveCWSFourier, ArclengthVariation, CurveXYZFourier\n",
    ")\n",
    "\n",
    "import matplotlib.pyplot as plt"
   ]
  },
  {
   "cell_type": "code",
   "execution_count": 4,
   "metadata": {},
   "outputs": [],
   "source": [
    "wout = 'input.axiTorus_nfp3_QA_final'\n",
    "\n",
    "ncoils = 1\n",
    "order = 1 # order of dofs of cws curves\n",
    "quadpoints = 300 #13 * order\n",
    "ntheta = 50\n",
    "nphi = 42"
   ]
  },
  {
   "cell_type": "code",
   "execution_count": 5,
   "metadata": {},
   "outputs": [],
   "source": [
    "phi = np.linspace(0, 1, 256, endpoint=True)\n",
    "theta = np.linspace(0, 1, 256, endpoint=True)"
   ]
  },
  {
   "cell_type": "code",
   "execution_count": 6,
   "metadata": {},
   "outputs": [],
   "source": [
    "# CREATE COIL WINDING SURFACE SURFACE\n",
    "cws = SurfaceRZFourier.from_vmec_input(wout, range=\"half period\", quadpoints_theta = theta, quadpoints_phi = phi)\n",
    "cws_full = SurfaceRZFourier.from_vmec_input(wout, range=\"full torus\", quadpoints_theta = theta, quadpoints_phi = phi)\n",
    "\n",
    "# Poloidally closed curve\n",
    "poloidal_curve = CurveCWSFourier(mpol=cws.mpol, ntor=cws.ntor, idofs=cws.x,\n",
    "                                quadpoints=quadpoints, order=order, nfp=cws.nfp, stellsym=cws.stellsym)\n",
    "poloidal_curve.set_dofs([1, 0, 0, 0, 0, 0, 0, 0])\n",
    "\n",
    "# Window pane curve\n",
    "saddle_curve = CurveCWSFourier(mpol=cws.mpol, ntor=cws.ntor, idofs=cws.x,\n",
    "                                quadpoints=quadpoints, order=order, nfp=cws.nfp, stellsym=cws.stellsym)\n",
    "saddle_curve.set_dofs([0, np.pi/2, 0.7, 0, 0, np.pi, 0, 0.5])\n",
    "\n",
    "# Toroidally closed curve\n",
    "toroidal_curve = CurveCWSFourier(mpol=cws.mpol, ntor=cws.ntor, idofs=cws.x,\n",
    "                                quadpoints=quadpoints, order=order, nfp=cws.nfp, stellsym=cws.stellsym)\n",
    "toroidal_curve.set_dofs([0, 0, 0, 0, 1, 0, 0, 0])"
   ]
  },
  {
   "cell_type": "code",
   "execution_count": 7,
   "metadata": {},
   "outputs": [],
   "source": [
    "OUT_DIR = \"./PaperCoils/\"\n",
    "os.makedirs(OUT_DIR, exist_ok=True)\n",
    "\n",
    "# Save initial curves\n",
    "curves_to_vtk([poloidal_curve], OUT_DIR + \"poloidal_curve\", close=True)\n",
    "curves_to_vtk([toroidal_curve], OUT_DIR + \"toroidal_curve\", close=True)\n",
    "curves_to_vtk([saddle_curve], OUT_DIR + \"saddle_curve\", close=True)\n",
    "cws_full.to_vtk(OUT_DIR + \"cws_init\")\n"
   ]
  }
 ],
 "metadata": {
  "kernelspec": {
   "display_name": "base",
   "language": "python",
   "name": "python3"
  },
  "language_info": {
   "codemirror_mode": {
    "name": "ipython",
    "version": 3
   },
   "file_extension": ".py",
   "mimetype": "text/x-python",
   "name": "python",
   "nbconvert_exporter": "python",
   "pygments_lexer": "ipython3",
   "version": "3.12.2"
  }
 },
 "nbformat": 4,
 "nbformat_minor": 2
}
